from ipywidgets import Layout #################Note that this script has AutoCopy after every investigation #############
import ipywidgets
from IPython.display import display
import pyclip 
import os #for getting username
import datetime #get datestamp
from pathlib import Path #for seeing if file exists or not
import webbrowser
import re

count = 0

def snow_button_clicked(a):
    webbrowser.open("") ##put ur link here

    
def imp_button_clicked(b):
    webbrowser.open("") ##put ur link here
 
    
def onClick(sender): ##GENERATE OUTPUT
    
    IP = str(IP_widget.value)##Read in IP, no regex this time yet....
    IP = IP.replace("-", "") #sometimes they leave a dash at the end
    IP = IP.replace(" ","") ##remove extra spaces
    ErrorCode = str(Error.value)
    global count
    count += 1
    

    if ErrorCode == "Not Seen":
        PrintAndAppend("\n" + str(count) + " -------------------------------------------------------------------------------------------------------------------------")
        Printfunc(IP)
        string_to_append  = ("\n" + "We can confirm that no traffic is seen on the Imperva portal for the IP provided.")
        PrintAndAppend(string_to_append)
        pyclip.copy("IP: "  + IP + "\n" + string_to_append) ##Copy to Clipboard
        
    if ErrorCode == "Mobile SDK":
        Browser = CheckBoxClicked()
        Country = str(country.value.upper())
        Country = re.sub(r'[^\w\s]', '', Country).replace(" ","") ##strip punctuation
        PrintAndAppend("\n" + str(count) + " -------------------------------------------------------------------------------------------------------------------------") ##seperator
        Printfunc(IP)
        PrintAndAppend("Browser: " + Browser)
        PrintAndAppend("Country: "+ Country)
        string_allowed = ("\n" + 
                          "We can confirm the IP provided is currently being blocked due to the use of a Mobile SDK")
        PrintAndAppend(string_allowed)
        pyclip.copy("IP: "  + IP + "\nBrowser: " + Browser + "\nCountry: " + Country + "\n" +string_allowed)   
    
    if ErrorCode == "Traffic Seen":
        Browser = CheckBoxClicked()
        Country = str(country.value.upper())
        Country = re.sub(r'[^\w\s]', '', Country).replace(" ","") ##strip punctuation
        PrintAndAppend("\n" + str(count) + " -------------------------------------------------------------------------------------------------------------------------") ##seperator
        Printfunc(IP)
        PrintAndAppend("Browser: " + Browser)
        PrintAndAppend("Country: "+ Country)
        string_allowed = ("\n" + 
                          "We can confirm that traffic for the IP provided is seen on the Imperva portal and is allowed.")
        PrintAndAppend(string_allowed)
        pyclip.copy("IP: "  + IP + "\nBrowser: " + Browser + "\nCountry: " + Country + "\n" +string_allowed)
        
    if ErrorCode == "Force Identify - Java/Cookie":
        Browser = CheckBoxClicked()
        Country = str(country.value.upper())
        Country = re.sub(r'[^\w\s]', '', Country).replace(" ","") ##strip punctuation
        PrintAndAppend("\n" + str(count) + " -------------------------------------------------------------------------------------------------------------------------") ##seperator
        Printfunc(IP)
        ##Browser
        browserString = ("Browser: " + Browser) 
        PrintAndAppend(browserString)
        
       ##Country
        CountryString = "Country: "+ Country + "\n"
        PrintAndAppend(CountryString)
        
        BlockedString  =  "We can confirm that traffic for the IP provided is currently blocked due to a Javascript or Browser cookie issue."
        PrintAndAppend(BlockedString)
        pyclip.copy("IP: "  + IP + "\nBrowser: " + Browser + "\nCountry: " + Country + "\n\n" + BlockedString)
        
        
    if ErrorCode == "Known Violator - VPN - RC":
        Browser = CheckBoxClicked()
        Country = str(country.value.upper())
        Country = re.sub(r'[^\w\s]', '', Country).replace(" ","") ##strip punctuation
        Geo = CapitaliseEveryFirstLetter(str(geo.value))
        
        PrintAndAppend("\n" + str(count) + " -------------------------------------------------------------------------------------------------------------------------") ##seperator
        Printfunc(IP)
        
        PrintAndAppend("Browser: " + Browser)
        PrintAndAppend("Country: "+ Country)
        PrintAndAppend("Geo Org: " + Geo  +"\n")
        PrintAndAppend("We can confirm the IP provided is currently being blocked due to a VPN or a hosted environment.")
        pyclip.copy("IP: "  + IP + "\nBrowser: " +
                    Browser + "\nCountry: " + Country +  "\nGeo Org: " + Geo  +
                    "\n\n"  + "We can confirm the IP provided is currently being blocked due to a VPN or a hosted environment.")
        
        
    if ErrorCode == "KV-Force Identity":
        Browser = CheckBoxClicked()
        Country = str(country.value.upper())
        Country = re.sub(r'[^\w\s]', '', Country).replace(" ","") ##strip punctuation
        Geo = CapitaliseEveryFirstLetter(str(geo.value))
        PrintAndAppend("\n" + str(count) + " -------------------------------------------------------------------------------------------------------------------------") ##seperator
        Printfunc(IP)
        PrintAndAppend("Browser: " + Browser) ##i could block this into one function if i really wanted to....
        PrintAndAppend("Country: "+ Country)
        PrintAndAppend("Geo Org: " + Geo  +"\n")
        PrintAndAppend("We can confirm the IP provided is currently being blocked due to a VPN or a hosted environment and blocked due to a Javascript or Browser cookie issue.")
        pyclip.copy("IP: "  + IP  + "\nBrowser: " + Browser + "\nCountry: " + Country + "\n" + "Geo Org: " + Geo  +"\n" + "\n"+ "We can confirm the IP provided is currently being blocked due to a VPN or a hosted environment and blocked due to a Javascript or Browser cookie issue.")
        
        
    if ErrorCode == "partial-Force Identity":
        Browser = CheckBoxClicked()
        Country = str(country.value.upper())
        Country = re.sub(r'[^\w\s]', '', Country).replace(" ","") ##strip punctuation
        PrintAndAppend("\n" + str(count) + " -------------------------------------------------------------------------------------------------------------------------") ##seperator
        Printfunc(IP)
        PrintAndAppend("Browser: " + Browser) 
        PrintAndAppend("Country: "+ Country +"\n")
        PrintAndAppend("We can confirm that some traffic for that IP provided was blocked due to a Javascript or Browser cookie issue. The rest of the traffic has been allowed.")
        pyclip.copy("IP: "  + IP + "\nBrowser: " + Browser + "\nCountry: " + Country + "\n\n" + "We can confirm that some traffic for that IP provided was blocked due to a Javascript or Browser cookie issue. The rest of the traffic has been allowed.")
        
        
    if ErrorCode == "Aggregator":
        Browser = CheckBoxClicked()
        Country = str(country.value.upper())
        Country = re.sub(r'[^\w\s]', '', Country).replace(" ","") ##strip punctuation
        Geo = CapitaliseEveryFirstLetter(str(geo.value))
        PrintAndAppend("\n" + str(count) + " -------------------------------------------------------------------------------------------------------------------------") ##seperator
        Printfunc(IP)
        PrintAndAppend("Browser: " + Browser) 
        PrintAndAppend("Country: "+ Country +"\n")
        PrintAndAppend("Geo Org: " + Geo  +"\n")
        PrintAndAppend("We can confirm the IP provided is currently being blocked due to aggregator user agent.")
        pyclip.copy("IP: "  + IP  + "\nBrowser: " + Browser + "\nCountry: " + Country + "\n" + "Geo Org: " + Geo  +"\n" + "\n"+ "We can confirm the IP provided is currently being blocked due to aggregator user agent.")
        
        
    if ErrorCode == "Partial Block":
        Browser = CheckBoxClicked()
        Country = str(country.value.upper())
        Country = re.sub(r'[^\w\s]', '', Country).replace(" ","") ##strip punctuation
        Geo = CapitaliseEveryFirstLetter(str(geo.value))
   
        PrintAndAppend("\n" + str(count) + " -------------------------------------------------------------------------------------------------------------------------") ##seperator
        Printfunc(IP)
        PrintAndAppend("Browser: " + Browser) 
        PrintAndAppend("Country: "+ Country)
        PrintAndAppend("Geo Org: " + Geo  +"\n")
        PrintAndAppend("We can confirm that some traffic from the IP provided is currently being blocked due to a VPN or a hosted environment. The rest of the traffic has been allowed.")
        pyclip.copy("IP: "  + IP  + "\nBrowser: " + Browser + "\nCountry: " + Country + "\n" + "Geo Org: " + Geo  +"\n" + "\n"+ "We can confirm that some traffic from the IP provided is currently being blocked due to a VPN or a hosted environment. The rest of the traffic has been allowed.")
        
    
    ##Clear all Inputs
    IP_widget.value = ""
    country.value = ""
    #geo.disabled= True
    geo.value = ""
    for c in checkboxes:
        c.value= False
    display(logged)
    
#def EnableGeo(change):
  #  Geo.value =  {'Not Seen' : True, 'Traffic Seen' :True, 'Force Identify':True,
        #            "Known Violator":False,"KV-FI":False,"partial FI":True,"Partial Block":True}[Error.value]
 #   display(change)
    #if Error.value == "KV-FI" or Error.value == "Known Violator" or Error.value == "Partial Block":
     #   Geo.disabled = True
        
    
    
def CapitaliseEveryFirstLetter(someString): ##Capitalise every first letter ###
        
        ##weird case
        if someString == "ServerMania" or someString == "servermania" or someString == "Servermania" or someString == "serverMania":
            newString = "ServerMania"
            
        else:
            someString = someString.split()
            newString = ""
        
            for val in someString:
            
                if val.isupper():
                    newString += val +  " "
            
                else:
                    newString += val.capitalize()+  " "
                
        return newString   
    
    
def CheckBoxClicked():  ##read back checkboxes
    browser= []
    for c in checkboxes:
        if c.value:
            browser.append(str(c.description))
            
    browser = "/".join(i for i in browser)        
    return browser
        
def Printfunc(IP): #simple func to print IP to console as well as write to the text file
    print("\n" + "IP: "  + IP) 
    f =open(filepath,"a")
    f.write("\n" + "IP: "  + IP + "\n")
    f.close()

        
def PrintAndAppend(stringtoappend):
    print(stringtoappend)
    f =open(filepath,"a")
    f.write(stringtoappend +"\n")
    f.close()
        
##########################Main Start#################################################################################

date =  datetime.datetime.now().strftime("%d-%m-%y")
filepath = os.path.join("C:\\Users\\" + os.getlogin() + "\\Desktop","Imp - " + date + ".txt") ##get user name. ##Syntax:  os.path.join(dir_name, base_filename + "." + filename_suffix)

#see if file exists, if it doesn't then make one.        
if Path(filepath).is_file(): 
    print ("File exist -> " + filepath) #f =open(filepath,"a") #by default it is text not binary
else:
    print ("File does not exist...creating one now... " + filepath)
    f =open(filepath, "x")#for a new file. if file already exists then to append use


IP_widget = ipywidgets.Text(description = "IP",disabled = False)

Error = ipywidgets.Select(
    options=['Not Seen', 'Mobile SDK', 'Traffic Seen', 'Force Identify - Java/Cookie',"Known Violator - VPN - RC","KV-Force Identity","partial-Force Identity","Partial Block","Aggregator"],
    description='Error Code :',
    rows = 9,
    disabled=False
)


###########################################Browsers##################################################################
chrome = ipywidgets.Checkbox(description='Chrome', style={'description_width': 'initial'})
firefox = ipywidgets.Checkbox(description='Firefox', style={'description_width': 'initial'})
safari = ipywidgets.Checkbox(description='Safari', style={'description_width': 'initial'})
edge = ipywidgets.Checkbox(description='Edge', style={'description_width': 'initial'})
opera = ipywidgets.Checkbox(description='Opera', style={'description_width': 'initial'})
yandex = ipywidgets.Checkbox(description='Yandex', style={'description_width': 'initial'})
f1app = ipywidgets.Checkbox(description='F1 App', style={'description_width': 'initial'})

checkboxes =[chrome,firefox,safari,edge,opera,yandex,f1app]


box_layout = ipywidgets.Layout(display='inline-flex',                               
                               flex_flow='row',
                               align_items='stretch',
                               border='solid',
                               width='100%')

IPBox = ipywidgets.HBox([IP_widget], layout=box_layout)

browser = ipywidgets.HBox(checkboxes)

country = ipywidgets.Text(description =  "Country: ")
geo = ipywidgets.Text(description =  "Geo Org: ", disabled = False )
display(IPBox)
display(Error)

print("Choose Browser: ")
display(browser)
display(country)
geo_notice = ipywidgets.Textarea(value  = "Geo only required for Known Violator, KV-FI & Partial Block.", disabled= True)

display(ipywidgets.HBox([geo,geo_notice]))
Generate= ipywidgets.Button(description = "Generate Output")
Snow = ipywidgets.Button(description = "Create New Inc")
imp = ipywidgets.Button(description = "Imp Link")
logged =  ipywidgets.Checkbox(description = "Logged To Snow ",disabled = False,indent = True)
ButtonBox = ipywidgets.HBox([Generate, Snow,imp])

display(ButtonBox)
Generate.on_click(onClick)
Snow.on_click(snow_button_clicked)
imp.on_click(imp_button_clicked)

#Random Test IP:     221.241.59.100
