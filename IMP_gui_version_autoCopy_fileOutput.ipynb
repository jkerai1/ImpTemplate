{
 "cells": [
  {
   "cell_type": "code",
   "execution_count": 2,
   "metadata": {},
   "outputs": [
    {
     "name": "stdout",
     "output_type": "stream",
     "text": [
      "File exist -> C:\\Users\\JayK\\Desktop\\Imp - 15-05-21.txt\n"
     ]
    },
    {
     "data": {
      "application/vnd.jupyter.widget-view+json": {
       "model_id": "550dd531ab6d4cbf88b6afd37d2a9531",
       "version_major": 2,
       "version_minor": 0
      },
      "text/plain": [
       "HBox(children=(Text(value='', description='IP'),), layout=Layout(align_items='stretch', border='solid', displa…"
      ]
     },
     "metadata": {},
     "output_type": "display_data"
    },
    {
     "data": {
      "application/vnd.jupyter.widget-view+json": {
       "model_id": "c4b2986ef3cd48fe82509c8fd6bdcce5",
       "version_major": 2,
       "version_minor": 0
      },
      "text/plain": [
       "Select(description='Error Code :', options=('Not Seen', 'Traffic Seen', 'Force Identify', 'Known Violator', 'K…"
      ]
     },
     "metadata": {},
     "output_type": "display_data"
    },
    {
     "name": "stdout",
     "output_type": "stream",
     "text": [
      "Choose Browser: \n"
     ]
    },
    {
     "data": {
      "application/vnd.jupyter.widget-view+json": {
       "model_id": "8530cfbd765d488ab4887d973529f138",
       "version_major": 2,
       "version_minor": 0
      },
      "text/plain": [
       "HBox(children=(Checkbox(value=False, description='Chrome', style=DescriptionStyle(description_width='initial')…"
      ]
     },
     "metadata": {},
     "output_type": "display_data"
    },
    {
     "data": {
      "application/vnd.jupyter.widget-view+json": {
       "model_id": "dfcd89b3b4634aaeb0ee789ceffd12b2",
       "version_major": 2,
       "version_minor": 0
      },
      "text/plain": [
       "Text(value='', description='Country: ')"
      ]
     },
     "metadata": {},
     "output_type": "display_data"
    },
    {
     "data": {
      "application/vnd.jupyter.widget-view+json": {
       "model_id": "82cfdaf65f0941479d04e0bfb2f49faf",
       "version_major": 2,
       "version_minor": 0
      },
      "text/plain": [
       "HBox(children=(Text(value='', description='Geo Org: '), Textarea(value='Geo only required for Known Violator, …"
      ]
     },
     "metadata": {},
     "output_type": "display_data"
    },
    {
     "data": {
      "application/vnd.jupyter.widget-view+json": {
       "model_id": "80271731c9a5445bab739357d99b5138",
       "version_major": 2,
       "version_minor": 0
      },
      "text/plain": [
       "HBox(children=(Button(description='Generate Output', style=ButtonStyle()), Button(description='Create New Inc'…"
      ]
     },
     "metadata": {},
     "output_type": "display_data"
    },
    {
     "name": "stdout",
     "output_type": "stream",
     "text": [
      "\n",
      "1 -------------------------------------------------------------------------------------------------------------------------\n",
      "\n",
      "IP: \n",
      "Browser: \n",
      "Country: AAAASDSASDSADASASDS\n",
      "\n",
      "We can confirm that traffic for the IP provided is seen on the Imperva portal and is allowed.\n"
     ]
    },
    {
     "data": {
      "application/vnd.jupyter.widget-view+json": {
       "model_id": "b916f47876644e71925a7d4cc06b3f9b",
       "version_major": 2,
       "version_minor": 0
      },
      "text/plain": [
       "Checkbox(value=False, description='Logged To Snow ')"
      ]
     },
     "metadata": {},
     "output_type": "display_data"
    }
   ],
   "source": [
    "from ipywidgets import Layout #################Note that this script has AutoCopy after every investigation #############\n",
    "import ipywidgets\n",
    "from IPython.display import display\n",
    "import pyclip \n",
    "import os #for getting username\n",
    "import datetime #get datestamp\n",
    "from pathlib import Path #for seeing if file exists or not\n",
    "import webbrowser\n",
    "import re\n",
    "\n",
    "count = 0\n",
    "\n",
    "def snow_button_clicked(a):\n",
    "    webbrowser.open(\"https://duckduckgo.com/\") ##put ur link here\n",
    "\n",
    "    \n",
    "def imp_button_clicked(b):\n",
    "    webbrowser.open(\"https://duckduckgo.com/\") ##put ur link here\n",
    " \n",
    "    \n",
    "def onClick(sender): ##GENERATE OUTPUT\n",
    "    \n",
    "    IP = str(IP_widget.value)##Read in IP, no regex this time yet....\n",
    "    IP = IP.replace(\"-\", \"\") #sometimes they leave a dash at the end\n",
    "    IP = IP.replace(\" \",\"\") ##remove extra spaces\n",
    "    ErrorCode = str(Error.value)\n",
    "    global count\n",
    "    count += 1\n",
    "    \n",
    "\n",
    "    if ErrorCode == \"Not Seen\":\n",
    "        PrintAndAppend(\"\\n\" + str(count) + \" -------------------------------------------------------------------------------------------------------------------------\")\n",
    "        Printfunc(IP)\n",
    "        string_to_append  = (\"\\n\" + \"We can confirm that no traffic is seen on the Imperva portal for the IP provided.\")\n",
    "        PrintAndAppend(string_to_append)\n",
    "        pyclip.copy(\"IP: \"  + IP + \"\\n\" + string_to_append) ##Copy to Clipboard\n",
    "    \n",
    "    if ErrorCode == \"Traffic Seen\":\n",
    "        Browser = CheckBoxClicked()\n",
    "        Country = str(country.value.upper())\n",
    "        Country = re.sub(r'[^\\w\\s]', '', Country).replace(\" \",\"\") ##strip punctuation\n",
    "        PrintAndAppend(\"\\n\" + str(count) + \" -------------------------------------------------------------------------------------------------------------------------\") ##seperator\n",
    "        Printfunc(IP)\n",
    "        PrintAndAppend(\"Browser: \" + Browser)\n",
    "        PrintAndAppend(\"Country: \"+ Country)\n",
    "        string_allowed = (\"\\n\" + \n",
    "                          \"We can confirm that traffic for the IP provided is seen on the Imperva portal and is allowed.\")\n",
    "        PrintAndAppend(string_allowed)\n",
    "        pyclip.copy(\"IP: \"  + IP + \"\\nBrowser: \" + Browser + \"\\nCountry: \" + Country + \"\\n\" +string_allowed)\n",
    "        \n",
    "    if ErrorCode == \"Force Identify\":\n",
    "        Browser = CheckBoxClicked()\n",
    "        Country = str(country.value.upper())\n",
    "        Country = re.sub(r'[^\\w\\s]', '', Country).replace(\" \",\"\") ##strip punctuation\n",
    "        PrintAndAppend(\"\\n\" + str(count) + \" -------------------------------------------------------------------------------------------------------------------------\") ##seperator\n",
    "        Printfunc(IP)\n",
    "        ##Browser\n",
    "        browserString = (\"Browser: \" + Browser) \n",
    "        PrintAndAppend(browserString)\n",
    "        \n",
    "       ##Country\n",
    "        CountryString = \"Country: \"+ Country + \"\\n\"\n",
    "        PrintAndAppend(CountryString)\n",
    "        \n",
    "        BlockedString  =  \"We can confirm that traffic for the IP provided is currently blocked due to a Javascript or Browser cookie issue.\"\n",
    "        PrintAndAppend(BlockedString)\n",
    "        pyclip.copy(\"IP: \"  + IP + \"\\nBrowser: \" + Browser + \"\\nCountry: \" + Country + \"\\n\\n\" + BlockedString)\n",
    "        \n",
    "        \n",
    "    if ErrorCode == \"Known Violator\":\n",
    "        Browser = CheckBoxClicked()\n",
    "        Country = str(country.value.upper())\n",
    "        Country = re.sub(r'[^\\w\\s]', '', Country).replace(\" \",\"\") ##strip punctuation\n",
    "        Geo = CapitaliseEveryFirstLetter(str(geo.value))\n",
    "        \n",
    "        PrintAndAppend(\"\\n\" + str(count) + \" -------------------------------------------------------------------------------------------------------------------------\") ##seperator\n",
    "        Printfunc(IP)\n",
    "        \n",
    "        PrintAndAppend(\"Browser: \" + Browser)\n",
    "        PrintAndAppend(\"Country: \"+ Country)\n",
    "        PrintAndAppend(\"Geo Org: \" + Geo  +\"\\n\")\n",
    "        PrintAndAppend(\"We can confirm the IP provided is currently being blocked due to a VPN or a hosted environment.\")\n",
    "        pyclip.copy(\"IP: \"  + IP + \"\\nBrowser: \" +\n",
    "                    Browser + \"\\nCountry: \" + Country +  \"\\nGeo Org: \" + Geo  +\n",
    "                    \"\\n\\n\"  + \"We can confirm the IP provided is currently being blocked due to a VPN or a hosted environment.\")\n",
    "        \n",
    "        \n",
    "    if ErrorCode == \"KV-FI\":\n",
    "        Browser = CheckBoxClicked()\n",
    "        Country = str(country.value.upper())\n",
    "        Country = re.sub(r'[^\\w\\s]', '', Country).replace(\" \",\"\") ##strip punctuation\n",
    "        Geo = CapitaliseEveryFirstLetter(str(geo.value))\n",
    "        PrintAndAppend(\"\\n\" + str(count) + \" -------------------------------------------------------------------------------------------------------------------------\") ##seperator\n",
    "        Printfunc(IP)\n",
    "        PrintAndAppend(\"Browser: \" + Browser) ##i could block this into one function if i really wanted to....\n",
    "        PrintAndAppend(\"Country: \"+ Country)\n",
    "        PrintAndAppend(\"Geo Org: \" + Geo  +\"\\n\")\n",
    "        PrintAndAppend(\"We can confirm the IP provided is currently being blocked due to a VPN or a hosted environment and blocked due to a Javascript or Browser cookie issue.\")\n",
    "        pyclip.copy(\"IP: \"  + IP  + \"\\nBrowser: \" + Browser + \"\\nCountry: \" + Country + \"\\n\" + \"Geo Org: \" + Geo  +\"\\n\" + \"\\n\"+ \"We can confirm the IP provided is currently being blocked due to a VPN or a hosted environment and blocked due to a Javascript or Browser cookie issue.\")\n",
    "        \n",
    "        \n",
    "    if ErrorCode == \"partial FI\":\n",
    "        Browser = CheckBoxClicked()\n",
    "        Country = str(country.value.upper())\n",
    "        Country = re.sub(r'[^\\w\\s]', '', Country).replace(\" \",\"\") ##strip punctuation\n",
    "        PrintAndAppend(\"\\n\" + str(count) + \" -------------------------------------------------------------------------------------------------------------------------\") ##seperator\n",
    "        Printfunc(IP)\n",
    "        PrintAndAppend(\"Browser: \" + Browser) \n",
    "        PrintAndAppend(\"Country: \"+ Country +\"\\n\")\n",
    "        PrintAndAppend(\"We can confirm that some traffic for that IP provided was blocked due to a Javascript or Browser cookie issue. The rest of the traffic has been allowed.\")\n",
    "        pyclip.copy(\"IP: \"  + IP + \"\\nBrowser: \" + Browser + \"\\nCountry: \" + Country + \"\\n\\n\" + \"We can confirm that some traffic for that IP provided was blocked due to a Javascript or Browser cookie issue. The rest of the traffic has been allowed.\")\n",
    "        \n",
    "    if ErrorCode == \"Partial Block\":\n",
    "        Browser = CheckBoxClicked()\n",
    "        Country = str(country.value.upper())\n",
    "        Country = re.sub(r'[^\\w\\s]', '', Country).replace(\" \",\"\") ##strip punctuation\n",
    "        Geo = CapitaliseEveryFirstLetter(str(geo.value))\n",
    "   \n",
    "        PrintAndAppend(\"\\n\" + str(count) + \" -------------------------------------------------------------------------------------------------------------------------\") ##seperator\n",
    "        Printfunc(IP)\n",
    "        PrintAndAppend(\"Browser: \" + Browser) \n",
    "        PrintAndAppend(\"Country: \"+ Country)\n",
    "        PrintAndAppend(\"Geo Org: \" + Geo  +\"\\n\")\n",
    "        PrintAndAppend(\"We can confirm that some traffic from the IP provided is currently being blocked due to a VPN or a hosted environment and blocked due to a Javascript or Browser cookie issue. The rest of the traffic has been allowed.\")\n",
    "        pyclip.copy(\"IP: \"  + IP  + \"\\nBrowser: \" + Browser + \"\\nCountry: \" + Country + \"\\n\" + \"Geo Org: \" + Geo  +\"\\n\" + \"\\n\"+ \"We can confirm that some traffic from the IP provided is currently being blocked due to a VPN or a hosted environment.\")\n",
    "        \n",
    "    \n",
    "    ##Clear all Inputs\n",
    "    IP_widget.value = \"\"\n",
    "    country.value = \"\"\n",
    "    #geo.disabled= True\n",
    "    geo.value = \"\"\n",
    "    for c in checkboxes:\n",
    "        c.value= False\n",
    "    display(logged)\n",
    "    \n",
    "#def EnableGeo(change):\n",
    "  #  Geo.value =  {'Not Seen' : True, 'Traffic Seen' :True, 'Force Identify':True,\n",
    "        #            \"Known Violator\":False,\"KV-FI\":False,\"partial FI\":True,\"Partial Block\":True}[Error.value]\n",
    " #   display(change)\n",
    "    #if Error.value == \"KV-FI\" or Error.value == \"Known Violator\" or Error.value == \"Partial Block\":\n",
    "     #   Geo.disabled = True\n",
    "        \n",
    "    \n",
    "    \n",
    "def CapitaliseEveryFirstLetter(someString): ##Capitalise every first letter ###\n",
    "        \n",
    "        ##weird case\n",
    "        if someString == \"ServerMania\" or someString == \"servermania\" or someString == \"Servermania\" or someString == \"serverMania\":\n",
    "            newString = \"ServerMania\"\n",
    "            \n",
    "        else:\n",
    "            someString = someString.split()\n",
    "            newString = \"\"\n",
    "        \n",
    "            for val in someString:\n",
    "            \n",
    "                if val.isupper():\n",
    "                    newString += val +  \" \"\n",
    "            \n",
    "                else:\n",
    "                    newString += val.capitalize()+  \" \"\n",
    "                \n",
    "        return newString   \n",
    "    \n",
    "    \n",
    "def CheckBoxClicked():  ##read back checkboxes\n",
    "    browser= []\n",
    "    for c in checkboxes:\n",
    "        if c.value:\n",
    "            browser.append(str(c.description))\n",
    "            \n",
    "    browser = \"/\".join(i for i in browser)        \n",
    "    return browser\n",
    "        \n",
    "def Printfunc(IP): #simple func to print IP to console as well as write to the text file\n",
    "    print(\"\\n\" + \"IP: \"  + IP) \n",
    "    f =open(filepath,\"a\")\n",
    "    f.write(\"\\n\" + \"IP: \"  + IP + \"\\n\")\n",
    "    f.close()\n",
    "\n",
    "        \n",
    "def PrintAndAppend(stringtoappend):\n",
    "    print(stringtoappend)\n",
    "    f =open(filepath,\"a\")\n",
    "    f.write(stringtoappend +\"\\n\")\n",
    "    f.close()\n",
    "        \n",
    "##########################Main Start#################################################################################\n",
    "\n",
    "date =  datetime.datetime.now().strftime(\"%d-%m-%y\")\n",
    "filepath = os.path.join(\"C:\\\\Users\\\\\" + os.getlogin() + \"\\\\Desktop\",\"Imp - \" + date + \".txt\") ##get user name. ##Syntax:  os.path.join(dir_name, base_filename + \".\" + filename_suffix)\n",
    "\n",
    "#see if file exists, if it doesn't then make one.        \n",
    "if Path(filepath).is_file(): \n",
    "    print (\"File exist -> \" + filepath) #f =open(filepath,\"a\") #by default it is text not binary\n",
    "else:\n",
    "    print (\"File does not exist...creating one now... \" + filepath)\n",
    "    f =open(filepath, \"x\")#for a new file. if file already exists then to append use\n",
    "\n",
    "\n",
    "IP_widget = ipywidgets.Text(description = \"IP\",disabled = False)\n",
    "\n",
    "Error = ipywidgets.Select(\n",
    "    options=['Not Seen', 'Traffic Seen', 'Force Identify',\"Known Violator\",\"KV-FI\",\"partial FI\",\"Partial Block\"],\n",
    "    description='Error Code :',\n",
    "    rows = 7,\n",
    "    disabled=False\n",
    ")\n",
    "\n",
    "\n",
    "###########################################Browsers##################################################################\n",
    "chrome = ipywidgets.Checkbox(description='Chrome', style={'description_width': 'initial'})\n",
    "firefox = ipywidgets.Checkbox(description='Firefox', style={'description_width': 'initial'})\n",
    "safari = ipywidgets.Checkbox(description='Safari', style={'description_width': 'initial'})\n",
    "edge = ipywidgets.Checkbox(description='Edge', style={'description_width': 'initial'})\n",
    "opera = ipywidgets.Checkbox(description='Opera', style={'description_width': 'initial'})\n",
    "yandex = ipywidgets.Checkbox(description='Yandex', style={'description_width': 'initial'})\n",
    "f1app = ipywidgets.Checkbox(description='F1 App', style={'description_width': 'initial'})\n",
    "\n",
    "checkboxes =[chrome,firefox,safari,edge,opera,yandex,f1app]\n",
    "\n",
    "\n",
    "box_layout = ipywidgets.Layout(display='inline-flex',                               \n",
    "                               flex_flow='row',\n",
    "                               align_items='stretch',\n",
    "                               border='solid',\n",
    "                               width='100%')\n",
    "\n",
    "IPBox = ipywidgets.HBox([IP_widget], layout=box_layout)\n",
    "\n",
    "browser = ipywidgets.HBox(checkboxes)\n",
    "\n",
    "country = ipywidgets.Text(description =  \"Country: \")\n",
    "geo = ipywidgets.Text(description =  \"Geo Org: \", disabled = False )\n",
    "display(IPBox)\n",
    "display(Error)\n",
    "\n",
    "print(\"Choose Browser: \")\n",
    "display(browser)\n",
    "display(country)\n",
    "geo_notice = ipywidgets.Textarea(value  = \"Geo only required for Known Violator, KV-FI & Partial Block.\", disabled= True)\n",
    "\n",
    "display(ipywidgets.HBox([geo,geo_notice]))\n",
    "Generate= ipywidgets.Button(description = \"Generate Output\")\n",
    "Snow = ipywidgets.Button(description = \"Create New Inc\")\n",
    "imp = ipywidgets.Button(description = \"Imp Link\")\n",
    "logged =  ipywidgets.Checkbox(description = \"Logged To Snow \",disabled = False,indent = True)\n",
    "ButtonBox = ipywidgets.HBox([Generate, Snow,imp])\n",
    "\n",
    "display(ButtonBox)\n",
    "Generate.on_click(onClick)\n",
    "Snow.on_click(snow_button_clicked)\n",
    "imp.on_click(imp_button_clicked)\n",
    "\n",
    "#Random Test IP:     221.241.59.100"
   ]
  },
  {
   "cell_type": "code",
   "execution_count": null,
   "metadata": {},
   "outputs": [],
   "source": []
  }
 ],
 "metadata": {
  "kernelspec": {
   "display_name": "Python 3",
   "language": "python",
   "name": "python3"
  },
  "language_info": {
   "codemirror_mode": {
    "name": "ipython",
    "version": 3
   },
   "file_extension": ".py",
   "mimetype": "text/x-python",
   "name": "python",
   "nbconvert_exporter": "python",
   "pygments_lexer": "ipython3",
   "version": "3.8.5"
  }
 },
 "nbformat": 4,
 "nbformat_minor": 4
}
