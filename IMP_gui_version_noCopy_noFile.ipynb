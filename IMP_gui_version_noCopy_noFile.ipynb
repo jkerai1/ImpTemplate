{
 "cells": [
  {
   "cell_type": "code",
   "execution_count": 1,
   "metadata": {},
   "outputs": [
    {
     "name": "stdout",
     "output_type": "stream",
     "text": [
      "File exist -> C:\\Users\\JayK\\Desktop\\Imp - 13-03-22.txt\n"
     ]
    },
    {
     "data": {
      "application/vnd.jupyter.widget-view+json": {
       "model_id": "a57a53acff5a44fbb5e3b85465990088",
       "version_major": 2,
       "version_minor": 0
      },
      "text/plain": [
       "HBox(children=(Text(value='', description='IP'),), layout=Layout(align_items='stretch', border='solid', displa…"
      ]
     },
     "metadata": {},
     "output_type": "display_data"
    },
    {
     "data": {
      "application/vnd.jupyter.widget-view+json": {
       "model_id": "56abde4cb63041c3919030d3ee1c1839",
       "version_major": 2,
       "version_minor": 0
      },
      "text/plain": [
       "Select(description='Error Code :', options=('Not Seen', 'Traffic Seen', 'Force Identify', 'Known Violator', 'K…"
      ]
     },
     "metadata": {},
     "output_type": "display_data"
    },
    {
     "name": "stdout",
     "output_type": "stream",
     "text": [
      "Choose Browser: \n"
     ]
    },
    {
     "data": {
      "application/vnd.jupyter.widget-view+json": {
       "model_id": "6b19e4ed55a64b75a2b02a4702b37930",
       "version_major": 2,
       "version_minor": 0
      },
      "text/plain": [
       "HBox(children=(Checkbox(value=False, description='Chrome', style=DescriptionStyle(description_width='initial')…"
      ]
     },
     "metadata": {},
     "output_type": "display_data"
    },
    {
     "data": {
      "application/vnd.jupyter.widget-view+json": {
       "model_id": "a18e6539289e433aa1131b5bf432c5c0",
       "version_major": 2,
       "version_minor": 0
      },
      "text/plain": [
       "Text(value='', description='Country: ')"
      ]
     },
     "metadata": {},
     "output_type": "display_data"
    },
    {
     "data": {
      "application/vnd.jupyter.widget-view+json": {
       "model_id": "9c549ff1f95148f0b8ed07786a36c3a6",
       "version_major": 2,
       "version_minor": 0
      },
      "text/plain": [
       "HBox(children=(Text(value='', description='Geo Org: '), Textarea(value='Geo only required for Known Violator, …"
      ]
     },
     "metadata": {},
     "output_type": "display_data"
    },
    {
     "data": {
      "application/vnd.jupyter.widget-view+json": {
       "model_id": "8d2d39feb67e4357a54c9b24fa490d53",
       "version_major": 2,
       "version_minor": 0
      },
      "text/plain": [
       "HBox(children=(Button(description='Generate Output', style=ButtonStyle()), Button(description='Create New Inc'…"
      ]
     },
     "metadata": {},
     "output_type": "display_data"
    }
   ],
   "source": [
    "from ipywidgets import Layout #################Note that this script has AutoCopy after every investigation #############\n",
    "import ipywidgets\n",
    "from IPython.display import display \n",
    "#import os #for getting username\n",
    "import datetime #get datestamp\n",
    "from pathlib import Path #for seeing if file exists or not\n",
    "import webbrowser\n",
    "import re\n",
    "\n",
    "count = 0\n",
    "\n",
    "def snow_button_clicked(a):\n",
    "    #webbrowser.open(\"https://duckduckgo.com/\") ##put ur link here\n",
    "    \n",
    "def imp_button_clicked(b):\n",
    "    webbrowser.open(\"https://duckduckgo.com/\")
    " \n",
    "    \n",
    "def onClick(sender): ##GENERATE OUTPUT\n",
    "    \n",
    "    IP = str(IP_widget.value)##Read in IP, no regex this time yet....\n",
    "    IP = IP.replace(\"-\", \"\") #sometimes they leave a dash at the end\n",
    "    IP = IP.replace(\" \",\"\") ##remove extra spaces\n",
    "    ErrorCode = str(Error.value)\n",
    "    global count\n",
    "    count += 1\n",
    "    \n",
    "\n",
    "    if ErrorCode == \"Not Seen\":\n",
    "        PrintAndAppend(\"\\n\" + str(count) + \" -------------------------------------------------------------------------------------------------------------------------\")\n",
    "        Printfunc(IP)\n",
    "        string_to_append  = (\"\\n\" + \"We can confirm that no traffic is seen on the Imperva portal for the IP provided.\")\n",
    "        PrintAndAppend(string_to_append)\n",
    "       # pyclip.copy(\"IP: \"  + IP + \"\\n\" + string_to_append) ##Copy to Clipboard\n",
    "    \n",
    "    if ErrorCode == \"Traffic Seen\":\n",
    "        Browser = CheckBoxClicked()\n",
    "        Country = str(country.value.upper())\n",
    "        Country = re.sub(r'[^\\w\\s]', '', Country).replace(\" \",\"\") ##strip punctuation\n",
    "        PrintAndAppend(\"\\n\" + str(count) + \" -------------------------------------------------------------------------------------------------------------------------\") ##seperator\n",
    "        Printfunc(IP)\n",
    "        PrintAndAppend(\"Browser: \" + Browser)\n",
    "        PrintAndAppend(\"Country: \"+ Country)\n",
    "        string_allowed = (\"\\n\" + \n",
    "                          \"We can confirm that traffic for the IP provided is seen on the Imperva portal and is allowed.\")\n",
    "        PrintAndAppend(string_allowed)\n",
    "        #pyclip.copy(\"IP: \"  + IP + \"\\nBrowser: \" + Browser + \"\\nCountry: \" + Country + \"\\n\" +string_allowed)\n",
    "        \n",
    "    if ErrorCode == \"Force Identify\":\n",
    "        Browser = CheckBoxClicked()\n",
    "        Country = str(country.value.upper())\n",
    "        Country = re.sub(r'[^\\w\\s]', '', Country).replace(\" \",\"\") ##strip punctuation\n",
    "        PrintAndAppend(\"\\n\" + str(count) + \" -------------------------------------------------------------------------------------------------------------------------\") ##seperator\n",
    "        Printfunc(IP)\n",
    "        ##Browser\n",
    "        browserString = (\"Browser: \" + Browser) \n",
    "        PrintAndAppend(browserString)\n",
    "        \n",
    "       ##Country\n",
    "        CountryString = \"Country: \"+ Country + \"\\n\"\n",
    "        PrintAndAppend(CountryString)\n",
    "        \n",
    "        BlockedString  =  \"We can confirm that traffic for the IP provided is currently blocked due to a Javascript or Browser cookie issue.\"\n",
    "        PrintAndAppend(BlockedString)\n",
    "        #pyclip.copy(\"IP: \"  + IP + \"\\nBrowser: \" + Browser + \"\\nCountry: \" + Country + \"\\n\\n\" + BlockedString)\n",
    "        \n",
    "        \n",
    "    if ErrorCode == \"Known Violator\":\n",
    "        Browser = CheckBoxClicked()\n",
    "        Country = str(country.value.upper())\n",
    "        Country = re.sub(r'[^\\w\\s]', '', Country).replace(\" \",\"\") ##strip punctuation\n",
    "        Geo = CapitaliseEveryFirstLetter(str(geo.value))\n",
    "        \n",
    "        PrintAndAppend(\"\\n\" + str(count) + \" -------------------------------------------------------------------------------------------------------------------------\") ##seperator\n",
    "        Printfunc(IP)\n",
    "        \n",
    "        PrintAndAppend(\"Browser: \" + Browser)\n",
    "        PrintAndAppend(\"Country: \"+ Country)\n",
    "        PrintAndAppend(\"Geo Org: \" + Geo  +\"\\n\")\n",
    "        PrintAndAppend(\"We can confirm the IP provided is currently being blocked due to a VPN or a hosted environment.\")\n",
    "        #pyclip.copy(\"IP: \"  + IP + \"\\nBrowser: \" +\n",
    "                    Browser + \"\\nCountry: \" + Country +  \"\\nGeo Org: \" + Geo  +\n",
    "                    \"\\n\\n\"  + \"We can confirm the IP provided is currently being blocked due to a VPN or a hosted environment.\")\n",
    "        \n",
    "        \n",
    "    if ErrorCode == \"KV-FI\":\n",
    "        Browser = CheckBoxClicked()\n",
    "        Country = str(country.value.upper())\n",
    "        Country = re.sub(r'[^\\w\\s]', '', Country).replace(\" \",\"\") ##strip punctuation\n",
    "        Geo = CapitaliseEveryFirstLetter(str(geo.value))\n",
    "        PrintAndAppend(\"\\n\" + str(count) + \" -------------------------------------------------------------------------------------------------------------------------\") ##seperator\n",
    "        Printfunc(IP)\n",
    "        PrintAndAppend(\"Browser: \" + Browser) ##i could block this into one function if i really wanted to....\n",
    "        PrintAndAppend(\"Country: \"+ Country)\n",
    "        PrintAndAppend(\"Geo Org: \" + Geo  +\"\\n\")\n",
    "        PrintAndAppend(\"We can confirm the IP provided is currently being blocked due to a VPN or a hosted environment and blocked due to a Javascript or Browser cookie issue.\")\n",
    "        #pyclip.copy(\"IP: \"  + IP  + \"\\nBrowser: \" + Browser + \"\\nCountry: \" + Country + \"\\n\" + \"Geo Org: \" + Geo  +\"\\n\" + \"\\n\"+ \"We can confirm the IP provided is currently being blocked due to a VPN or a hosted environment and blocked due to a Javascript or Browser cookie issue.\")\n",
    "        \n",
    "        \n",
    "    if ErrorCode == \"partial FI\":\n",
    "        Browser = CheckBoxClicked()\n",
    "        Country = str(country.value.upper())\n",
    "        Country = re.sub(r'[^\\w\\s]', '', Country).replace(\" \",\"\") ##strip punctuation\n",
    "        PrintAndAppend(\"\\n\" + str(count) + \" -------------------------------------------------------------------------------------------------------------------------\") ##seperator\n",
    "        Printfunc(IP)\n",
    "        PrintAndAppend(\"Browser: \" + Browser) \n",
    "        PrintAndAppend(\"Country: \"+ Country +\"\\n\")\n",
    "        PrintAndAppend(\"We can confirm that some traffic for that IP provided was blocked due to a Javascript or Browser cookie issue. The rest of the traffic has been allowed.\")\n",
    "        #pyclip.copy(\"IP: \"  + IP + \"\\nBrowser: \" + Browser + \"\\nCountry: \" + Country + \"\\n\\n\" + \"We can confirm that some traffic for that IP provided was blocked due to a Javascript or Browser cookie issue. The rest of the traffic has been allowed.\")\n",
    "        \n",
    "    if ErrorCode == \"Partial Block\":\n",
    "        Browser = CheckBoxClicked()\n",
    "        Country = str(country.value.upper())\n",
    "        Country = re.sub(r'[^\\w\\s]', '', Country).replace(\" \",\"\") ##strip punctuation\n",
    "        Geo = CapitaliseEveryFirstLetter(str(geo.value))\n",
    "   \n",
    "        PrintAndAppend(\"\\n\" + str(count) + \" -------------------------------------------------------------------------------------------------------------------------\") ##seperator\n",
    "        Printfunc(IP)\n",
    "        PrintAndAppend(\"Browser: \" + Browser) \n",
    "        PrintAndAppend(\"Country: \"+ Country)\n",
    "        PrintAndAppend(\"Geo Org: \" + Geo  +\"\\n\")\n",
    "        PrintAndAppend(\"We can confirm that some traffic from the IP provided is currently being blocked due to a VPN or a hosted environment and blocked due to a Javascript or Browser cookie issue. The rest of the traffic has been allowed.\")\n",
    "        #pyclip.copy(\"IP: \"  + IP  + \"\\nBrowser: \" + Browser + \"\\nCountry: \" + Country + \"\\n\" + \"Geo Org: \" + Geo  +\"\\n\" + \"\\n\"+ \"We can confirm that some traffic from the IP provided is currently being blocked due to a VPN or a hosted environment.\")\n",
    "        \n",
    "    \n",
    "    ##Clear all Inputs\n",
    "    IP_widget.value = \"\"\n",
    "    country.value = \"\"\n",
    "    #geo.disabled= True\n",
    "    geo.value = \"\"\n",
    "    for c in checkboxes:\n",
    "        c.value= False\n",
    "    display(logged)\n",
    "    \n",
    "#def EnableGeo(change):\n",
    "  #  Geo.value =  {'Not Seen' : True, 'Traffic Seen' :True, 'Force Identify':True,\n",
    "        #            \"Known Violator\":False,\"KV-FI\":False,\"partial FI\":True,\"Partial Block\":True}[Error.value]\n",
    " #   display(change)\n",
    "    #if Error.value == \"KV-FI\" or Error.value == \"Known Violator\" or Error.value == \"Partial Block\":\n",
    "     #   Geo.disabled = True\n",
    "        \n",
    "    \n",
    "    \n",
    "def CapitaliseEveryFirstLetter(someString): ##Capitalise every first letter ###\n",
    "        \n",
    "        ##weird case\n",
    "        if someString == \"ServerMania\" or someString == \"servermania\" or someString == \"Servermania\" or someString == \"serverMania\":\n",
    "            newString = \"ServerMania\"\n",
    "            \n",
    "        else:\n",
    "            someString = someString.split()\n",
    "            newString = \"\"\n",
    "        \n",
    "            for val in someString:\n",
    "            \n",
    "                if val.isupper():\n",
    "                    newString += val +  \" \"\n",
    "            \n",
    "                else:\n",
    "                    newString += val.capitalize()+  \" \"\n",
    "                \n",
    "        return newString   \n",
    "    \n",
    "    \n",
    "def CheckBoxClicked():  ##read back checkboxes\n",
    "    browser= []\n",
    "    for c in checkboxes:\n",
    "        if c.value:\n",
    "            browser.append(str(c.description))\n",
    "            \n",
    "    browser = \"/\".join(i for i in browser)        \n",
    "    return browser\n",
    "        \n",
    "def Printfunc(IP): #simple func to print IP to console as well as write to the text file\n",
    "    print(\"\\n\" + \"IP: \"  + IP) \n",
    "    f =open(filepath,\"a\")\n",
    "    f.write(\"\\n\" + \"IP: \"  + IP + \"\\n\")\n",
    "    f.close()\n",
    "\n",
    "        \n",
    "def PrintAndAppend(stringtoappend):\n",
    "    print(stringtoappend)\n",
    "    #f =open(filepath,\"a\")\n",
    "    #f.write(stringtoappend +\"\\n\")\n",
    "    #f.close()\n",
    "        \n",
    "##########################Main Start#################################################################################\n",
    "\n",
    "#date =  datetime.datetime.now().strftime(\"%d-%m-%y\")\n",
    "#filepath = os.path.join(\"C:\\\\Users\\\\\" + os.getlogin() + \"\\\\Desktop\",\"Imp - \" + date + \".txt\") ##get user name. ##Syntax:  os.path.join(dir_name, base_filename + \".\" + filename_suffix)\n",
    "\n",
    "#see if file exists, if it doesn't then make one.        \n",
    "#if Path(filepath).is_file(): \n",
    "  #  print (\"File exist -> \" + filepath) #f =open(filepath,\"a\") #by default it is text not binary\n",
    "#else:\n",
    "   # print (\"File does not exist...creating one now... \" + filepath)\n",
    "  #  f =open(filepath, \"x\")#for a new file. if file already exists then to append use\n",
    "\n",
    "\n",
    "IP_widget = ipywidgets.Text(description = \"IP\",disabled = False)\n",
    "\n",
    "Error = ipywidgets.Select(\n",
    "    options=['Not Seen', 'Traffic Seen', 'Force Identify',\"Known Violator\",\"KV-FI\",\"partial FI\",\"Partial Block\"],\n",
    "    description='Error Code :',\n",
    "    rows = 7,\n",
    "    disabled=False\n",
    ")\n",
    "\n",
    "\n",
    "###########################################Browsers##################################################################\n",
    "chrome = ipywidgets.Checkbox(description='Chrome', style={'description_width': 'initial'})\n",
    "firefox = ipywidgets.Checkbox(description='Firefox', style={'description_width': 'initial'})\n",
    "safari = ipywidgets.Checkbox(description='Safari', style={'description_width': 'initial'})\n",
    "edge = ipywidgets.Checkbox(description='Edge', style={'description_width': 'initial'})\n",
    "opera = ipywidgets.Checkbox(description='Opera', style={'description_width': 'initial'})\n",
    "yandex = ipywidgets.Checkbox(description='Yandex', style={'description_width': 'initial'})\n",
    "f1app = ipywidgets.Checkbox(description='F1 App', style={'description_width': 'initial'})\n",
    "\n",
    "checkboxes =[chrome,firefox,safari,edge,opera,yandex,f1app]\n",
    "\n",
    "\n",
    "box_layout = ipywidgets.Layout(display='inline-flex',                               \n",
    "                               flex_flow='row',\n",
    "                               align_items='stretch',\n",
    "                               border='solid',\n",
    "                               width='100%')\n",
    "\n",
    "IPBox = ipywidgets.HBox([IP_widget], layout=box_layout)\n",
    "\n",
    "browser = ipywidgets.HBox(checkboxes)\n",
    "\n",
    "country = ipywidgets.Text(description =  \"Country: \")\n",
    "geo = ipywidgets.Text(description =  \"Geo Org: \", disabled = False )\n",
    "display(IPBox)\n",
    "display(Error)\n",
    "\n",
    "print(\"Choose Browser: \")\n",
    "display(browser)\n",
    "display(country)\n",
    "geo_notice = ipywidgets.Textarea(value  = \"Geo only required for Known Violator, KV-FI & Partial Block.bad challenge postback is FI, Automation is KVDC\", disabled= True)\n",
    "\n",
    "display(ipywidgets.HBox([geo,geo_notice]))\n",
    "Generate= ipywidgets.Button(description = \"Generate Output\")\n",
    "Snow = ipywidgets.Button(description = \"Create New Inc\")\n",
    "imp = ipywidgets.Button(description = \"Imp Link\")\n",
    "logged =  ipywidgets.Checkbox(description = \"Logged To Snow \",disabled = False,indent = True)\n",
    "ButtonBox = ipywidgets.HBox([Generate, Snow,imp])\n",
    "\n",
    "display(ButtonBox)\n",
    "Generate.on_click(onClick)\n",
    "Snow.on_click(snow_button_clicked)\n",
    "imp.on_click(imp_button_clicked)\n",
    "\n",
    "#Random Test IP:     221.241.59.100"
   ]
  },
  {
   "cell_type": "code",
   "execution_count": null,
   "metadata": {},
   "outputs": [],
   "source": []
  }
 ],
 "metadata": {
  "kernelspec": {
   "display_name": "Python 3",
   "language": "python",
   "name": "python3"
  },
  "language_info": {
   "codemirror_mode": {
    "name": "ipython",
    "version": 3
   },
   "file_extension": ".py",
   "mimetype": "text/x-python",
   "name": "python",
   "nbconvert_exporter": "python",
   "pygments_lexer": "ipython3",
   "version": "3.8.8"
  },
  "widgets": {
   "application/vnd.jupyter.widget-state+json": {
    "state": {
     "014bae6880e74800b11b40be6c67577a": {
      "model_module": "@jupyter-widgets/controls",
      "model_module_version": "1.5.0",
      "model_name": "CheckboxModel",
      "state": {
       "description": "Safari",
       "disabled": false,
       "layout": "IPY_MODEL_5e78f323e8cb4b9f9098926323fee85c",
       "style": "IPY_MODEL_63fa9a9ef4e94545b1992d26bff68d56",
       "value": false
      }
     },
     "08e2eabb72ad4dc782b4dcdd4dbe03be": {
      "model_module": "@jupyter-widgets/base",
      "model_module_version": "1.2.0",
      "model_name": "LayoutModel",
      "state": {}
     },
     "0a1f7a1a3b8c4040b616e4f5bd3209b1": {
      "model_module": "@jupyter-widgets/controls",
      "model_module_version": "1.5.0",
      "model_name": "ButtonModel",
      "state": {
       "description": "Imp Link",
       "layout": "IPY_MODEL_aa59c06f6ce240fa8437cda0db0d2a7d",
       "style": "IPY_MODEL_c73578e8af9e4a5bbc569a3a43e936b4"
      }
     },
     "1519724891194c22b52f26d67ae3fad3": {
      "model_module": "@jupyter-widgets/controls",
      "model_module_version": "1.5.0",
      "model_name": "DescriptionStyleModel",
      "state": {
       "description_width": ""
      }
     },
     "159daf0f4011464c92683f6ad5917aa9": {
      "model_module": "@jupyter-widgets/base",
      "model_module_version": "1.2.0",
      "model_name": "LayoutModel",
      "state": {
       "align_items": "stretch",
       "border": "solid",
       "display": "inline-flex",
       "flex_flow": "row",
       "width": "100%"
      }
     },
     "17b4b43ba37d4410b61f75e2097e5ce2": {
      "model_module": "@jupyter-widgets/base",
      "model_module_version": "1.2.0",
      "model_name": "LayoutModel",
      "state": {}
     },
     "1e8e7aad986848b9b6f18c495962b5d0": {
      "model_module": "@jupyter-widgets/controls",
      "model_module_version": "1.5.0",
      "model_name": "DescriptionStyleModel",
      "state": {
       "description_width": "initial"
      }
     },
     "1f8140019e2c42938ae3830ed47cce00": {
      "model_module": "@jupyter-widgets/base",
      "model_module_version": "1.2.0",
      "model_name": "LayoutModel",
      "state": {}
     },
     "1f908bf17d754254b908257a32112fa6": {
      "model_module": "@jupyter-widgets/base",
      "model_module_version": "1.2.0",
      "model_name": "LayoutModel",
      "state": {}
     },
     "268978b7877e47d5a5cc5454edb89cc9": {
      "model_module": "@jupyter-widgets/base",
      "model_module_version": "1.2.0",
      "model_name": "LayoutModel",
      "state": {}
     },
     "2a37413265ec477b83765cc2f1fe163a": {
      "model_module": "@jupyter-widgets/controls",
      "model_module_version": "1.5.0",
      "model_name": "CheckboxModel",
      "state": {
       "description": "Logged To Snow ",
       "disabled": false,
       "layout": "IPY_MODEL_8fa4ce4d718840cb825770a2ed0fe29b",
       "style": "IPY_MODEL_1519724891194c22b52f26d67ae3fad3",
       "value": false
      }
     },
     "2ee1c48d70b141499a091c6d98293ff8": {
      "model_module": "@jupyter-widgets/base",
      "model_module_version": "1.2.0",
      "model_name": "LayoutModel",
      "state": {}
     },
     "32155744a53c430c9b55d6a22233e15a": {
      "model_module": "@jupyter-widgets/controls",
      "model_module_version": "1.5.0",
      "model_name": "ButtonModel",
      "state": {
       "description": "Create New Inc",
       "layout": "IPY_MODEL_652fdc0bae3c4453903d43931087ccc5",
       "style": "IPY_MODEL_75e7c1e2d8eb4f55924c1ac3b5fdf6a9"
      }
     },
     "37feb663f38f466d8719dba795960009": {
      "model_module": "@jupyter-widgets/base",
      "model_module_version": "1.2.0",
      "model_name": "LayoutModel",
      "state": {}
     },
     "3b182d7439394fcb8ade7ce627390692": {
      "model_module": "@jupyter-widgets/base",
      "model_module_version": "1.2.0",
      "model_name": "LayoutModel",
      "state": {}
     },
     "4d90ea33615f4727b143a8085a0846f4": {
      "model_module": "@jupyter-widgets/base",
      "model_module_version": "1.2.0",
      "model_name": "LayoutModel",
      "state": {}
     },
     "55267b7ac5a3447b9d6d01b7e00fca1d": {
      "model_module": "@jupyter-widgets/controls",
      "model_module_version": "1.5.0",
      "model_name": "CheckboxModel",
      "state": {
       "description": "Yandex",
       "disabled": false,
       "layout": "IPY_MODEL_6cfcebdcef1943f08db757834f0ffa3e",
       "style": "IPY_MODEL_daae34a0faa94ed2ab69e4ccc9abaa2a",
       "value": false
      }
     },
     "56abde4cb63041c3919030d3ee1c1839": {
      "model_module": "@jupyter-widgets/controls",
      "model_module_version": "1.5.0",
      "model_name": "SelectModel",
      "state": {
       "_options_labels": [
        "Not Seen",
        "Traffic Seen",
        "Force Identify",
        "Known Violator",
        "KV-FI",
        "partial FI",
        "Partial Block"
       ],
       "description": "Error Code :",
       "index": 0,
       "layout": "IPY_MODEL_08e2eabb72ad4dc782b4dcdd4dbe03be",
       "rows": 7,
       "style": "IPY_MODEL_5ef611eb3a274ce69390f4049d0c12e2"
      }
     },
     "59e7177dfe5445baad55b2e6dfa0df4e": {
      "model_module": "@jupyter-widgets/base",
      "model_module_version": "1.2.0",
      "model_name": "LayoutModel",
      "state": {}
     },
     "5e78f323e8cb4b9f9098926323fee85c": {
      "model_module": "@jupyter-widgets/base",
      "model_module_version": "1.2.0",
      "model_name": "LayoutModel",
      "state": {}
     },
     "5ef611eb3a274ce69390f4049d0c12e2": {
      "model_module": "@jupyter-widgets/controls",
      "model_module_version": "1.5.0",
      "model_name": "DescriptionStyleModel",
      "state": {
       "description_width": ""
      }
     },
     "6344b03194634f3d8e104ed526d4de85": {
      "model_module": "@jupyter-widgets/controls",
      "model_module_version": "1.5.0",
      "model_name": "TextModel",
      "state": {
       "description": "Geo Org: ",
       "layout": "IPY_MODEL_268978b7877e47d5a5cc5454edb89cc9",
       "style": "IPY_MODEL_895c6c818b28460eac0dd91a4a57e9da"
      }
     },
     "63fa9a9ef4e94545b1992d26bff68d56": {
      "model_module": "@jupyter-widgets/controls",
      "model_module_version": "1.5.0",
      "model_name": "DescriptionStyleModel",
      "state": {
       "description_width": "initial"
      }
     },
     "652fdc0bae3c4453903d43931087ccc5": {
      "model_module": "@jupyter-widgets/base",
      "model_module_version": "1.2.0",
      "model_name": "LayoutModel",
      "state": {}
     },
     "66d1d8b22552455994773ea1baa3981e": {
      "model_module": "@jupyter-widgets/controls",
      "model_module_version": "1.5.0",
      "model_name": "DescriptionStyleModel",
      "state": {
       "description_width": ""
      }
     },
     "6b19e4ed55a64b75a2b02a4702b37930": {
      "model_module": "@jupyter-widgets/controls",
      "model_module_version": "1.5.0",
      "model_name": "HBoxModel",
      "state": {
       "children": [
        "IPY_MODEL_9f0b4553967647b7af7ab2e82f86ad07",
        "IPY_MODEL_dc5a6aee83fc4f0a9afe56a908181433",
        "IPY_MODEL_014bae6880e74800b11b40be6c67577a",
        "IPY_MODEL_72dad4ca27f54efc9d828223dca2af22",
        "IPY_MODEL_9500ccf5c2584b50b17349fb0b906ef6",
        "IPY_MODEL_55267b7ac5a3447b9d6d01b7e00fca1d",
        "IPY_MODEL_846459b0859a48d4971c2bf0cfcfb6df"
       ],
       "layout": "IPY_MODEL_daa5390096dc442cb7965ce92087fb55"
      }
     },
     "6cfcebdcef1943f08db757834f0ffa3e": {
      "model_module": "@jupyter-widgets/base",
      "model_module_version": "1.2.0",
      "model_name": "LayoutModel",
      "state": {}
     },
     "72dad4ca27f54efc9d828223dca2af22": {
      "model_module": "@jupyter-widgets/controls",
      "model_module_version": "1.5.0",
      "model_name": "CheckboxModel",
      "state": {
       "description": "Edge",
       "disabled": false,
       "layout": "IPY_MODEL_bd3a81b121c248498132e2f8af8f6c08",
       "style": "IPY_MODEL_f1f8d298e62646feb3e8fc230b5206cf",
       "value": false
      }
     },
     "75e7c1e2d8eb4f55924c1ac3b5fdf6a9": {
      "model_module": "@jupyter-widgets/controls",
      "model_module_version": "1.5.0",
      "model_name": "ButtonStyleModel",
      "state": {}
     },
     "7d84b386c9cd4c409a1c413ca2ad4235": {
      "model_module": "@jupyter-widgets/controls",
      "model_module_version": "1.5.0",
      "model_name": "ButtonModel",
      "state": {
       "description": "Generate Output",
       "layout": "IPY_MODEL_1f8140019e2c42938ae3830ed47cce00",
       "style": "IPY_MODEL_930bbdbec77d4efbb4e322131abba858"
      }
     },
     "8016ac428bf5464aa0b859084bb2ffd3": {
      "model_module": "@jupyter-widgets/base",
      "model_module_version": "1.2.0",
      "model_name": "LayoutModel",
      "state": {}
     },
     "82a4ba567e56434dbdefb9ff1f91fccc": {
      "model_module": "@jupyter-widgets/controls",
      "model_module_version": "1.5.0",
      "model_name": "DescriptionStyleModel",
      "state": {
       "description_width": "initial"
      }
     },
     "846459b0859a48d4971c2bf0cfcfb6df": {
      "model_module": "@jupyter-widgets/controls",
      "model_module_version": "1.5.0",
      "model_name": "CheckboxModel",
      "state": {
       "description": "F1 App",
       "disabled": false,
       "layout": "IPY_MODEL_37feb663f38f466d8719dba795960009",
       "style": "IPY_MODEL_1e8e7aad986848b9b6f18c495962b5d0",
       "value": false
      }
     },
     "895c6c818b28460eac0dd91a4a57e9da": {
      "model_module": "@jupyter-widgets/controls",
      "model_module_version": "1.5.0",
      "model_name": "DescriptionStyleModel",
      "state": {
       "description_width": ""
      }
     },
     "8b1903a969c74409b573be925a83382f": {
      "model_module": "@jupyter-widgets/controls",
      "model_module_version": "1.5.0",
      "model_name": "TextModel",
      "state": {
       "description": "IP",
       "layout": "IPY_MODEL_59e7177dfe5445baad55b2e6dfa0df4e",
       "style": "IPY_MODEL_caa94f3a0ba749e093d93654f3fbb3aa"
      }
     },
     "8d2d39feb67e4357a54c9b24fa490d53": {
      "model_module": "@jupyter-widgets/controls",
      "model_module_version": "1.5.0",
      "model_name": "HBoxModel",
      "state": {
       "children": [
        "IPY_MODEL_7d84b386c9cd4c409a1c413ca2ad4235",
        "IPY_MODEL_32155744a53c430c9b55d6a22233e15a",
        "IPY_MODEL_0a1f7a1a3b8c4040b616e4f5bd3209b1"
       ],
       "layout": "IPY_MODEL_c7eab95202ce4ca0a11222fda9ae599b"
      }
     },
     "8ec5190fb5a74430a393f3dd0a2deeb9": {
      "model_module": "@jupyter-widgets/controls",
      "model_module_version": "1.5.0",
      "model_name": "DescriptionStyleModel",
      "state": {
       "description_width": "initial"
      }
     },
     "8fa4ce4d718840cb825770a2ed0fe29b": {
      "model_module": "@jupyter-widgets/base",
      "model_module_version": "1.2.0",
      "model_name": "LayoutModel",
      "state": {}
     },
     "90b0c022bc9a4230949dfeae1766bb3e": {
      "model_module": "@jupyter-widgets/controls",
      "model_module_version": "1.5.0",
      "model_name": "DescriptionStyleModel",
      "state": {
       "description_width": "initial"
      }
     },
     "930bbdbec77d4efbb4e322131abba858": {
      "model_module": "@jupyter-widgets/controls",
      "model_module_version": "1.5.0",
      "model_name": "ButtonStyleModel",
      "state": {}
     },
     "9500ccf5c2584b50b17349fb0b906ef6": {
      "model_module": "@jupyter-widgets/controls",
      "model_module_version": "1.5.0",
      "model_name": "CheckboxModel",
      "state": {
       "description": "Opera",
       "disabled": false,
       "layout": "IPY_MODEL_8016ac428bf5464aa0b859084bb2ffd3",
       "style": "IPY_MODEL_8ec5190fb5a74430a393f3dd0a2deeb9",
       "value": false
      }
     },
     "9c549ff1f95148f0b8ed07786a36c3a6": {
      "model_module": "@jupyter-widgets/controls",
      "model_module_version": "1.5.0",
      "model_name": "HBoxModel",
      "state": {
       "children": [
        "IPY_MODEL_6344b03194634f3d8e104ed526d4de85",
        "IPY_MODEL_e1780bcf0e4a4090969f7dd973dc980c"
       ],
       "layout": "IPY_MODEL_4d90ea33615f4727b143a8085a0846f4"
      }
     },
     "9f0b4553967647b7af7ab2e82f86ad07": {
      "model_module": "@jupyter-widgets/controls",
      "model_module_version": "1.5.0",
      "model_name": "CheckboxModel",
      "state": {
       "description": "Chrome",
       "disabled": false,
       "layout": "IPY_MODEL_3b182d7439394fcb8ade7ce627390692",
       "style": "IPY_MODEL_82a4ba567e56434dbdefb9ff1f91fccc",
       "value": false
      }
     },
     "a18e6539289e433aa1131b5bf432c5c0": {
      "model_module": "@jupyter-widgets/controls",
      "model_module_version": "1.5.0",
      "model_name": "TextModel",
      "state": {
       "description": "Country: ",
       "layout": "IPY_MODEL_2ee1c48d70b141499a091c6d98293ff8",
       "style": "IPY_MODEL_df61ea7c291e4430897f22615bd9ad8d"
      }
     },
     "a57a53acff5a44fbb5e3b85465990088": {
      "model_module": "@jupyter-widgets/controls",
      "model_module_version": "1.5.0",
      "model_name": "HBoxModel",
      "state": {
       "children": [
        "IPY_MODEL_8b1903a969c74409b573be925a83382f"
       ],
       "layout": "IPY_MODEL_159daf0f4011464c92683f6ad5917aa9"
      }
     },
     "aa59c06f6ce240fa8437cda0db0d2a7d": {
      "model_module": "@jupyter-widgets/base",
      "model_module_version": "1.2.0",
      "model_name": "LayoutModel",
      "state": {}
     },
     "bd3a81b121c248498132e2f8af8f6c08": {
      "model_module": "@jupyter-widgets/base",
      "model_module_version": "1.2.0",
      "model_name": "LayoutModel",
      "state": {}
     },
     "c73578e8af9e4a5bbc569a3a43e936b4": {
      "model_module": "@jupyter-widgets/controls",
      "model_module_version": "1.5.0",
      "model_name": "ButtonStyleModel",
      "state": {}
     },
     "c7eab95202ce4ca0a11222fda9ae599b": {
      "model_module": "@jupyter-widgets/base",
      "model_module_version": "1.2.0",
      "model_name": "LayoutModel",
      "state": {}
     },
     "caa94f3a0ba749e093d93654f3fbb3aa": {
      "model_module": "@jupyter-widgets/controls",
      "model_module_version": "1.5.0",
      "model_name": "DescriptionStyleModel",
      "state": {
       "description_width": ""
      }
     },
     "daa5390096dc442cb7965ce92087fb55": {
      "model_module": "@jupyter-widgets/base",
      "model_module_version": "1.2.0",
      "model_name": "LayoutModel",
      "state": {}
     },
     "daae34a0faa94ed2ab69e4ccc9abaa2a": {
      "model_module": "@jupyter-widgets/controls",
      "model_module_version": "1.5.0",
      "model_name": "DescriptionStyleModel",
      "state": {
       "description_width": "initial"
      }
     },
     "dc5a6aee83fc4f0a9afe56a908181433": {
      "model_module": "@jupyter-widgets/controls",
      "model_module_version": "1.5.0",
      "model_name": "CheckboxModel",
      "state": {
       "description": "Firefox",
       "disabled": false,
       "layout": "IPY_MODEL_1f908bf17d754254b908257a32112fa6",
       "style": "IPY_MODEL_90b0c022bc9a4230949dfeae1766bb3e",
       "value": false
      }
     },
     "df61ea7c291e4430897f22615bd9ad8d": {
      "model_module": "@jupyter-widgets/controls",
      "model_module_version": "1.5.0",
      "model_name": "DescriptionStyleModel",
      "state": {
       "description_width": ""
      }
     },
     "e1780bcf0e4a4090969f7dd973dc980c": {
      "model_module": "@jupyter-widgets/controls",
      "model_module_version": "1.5.0",
      "model_name": "TextareaModel",
      "state": {
       "disabled": true,
       "layout": "IPY_MODEL_17b4b43ba37d4410b61f75e2097e5ce2",
       "style": "IPY_MODEL_66d1d8b22552455994773ea1baa3981e",
       "value": "Geo only required for Known Violator, KV-FI & Partial Block.bad challenge postback is FI, Automation is KVDC"
      }
     },
     "f1f8d298e62646feb3e8fc230b5206cf": {
      "model_module": "@jupyter-widgets/controls",
      "model_module_version": "1.5.0",
      "model_name": "DescriptionStyleModel",
      "state": {
       "description_width": "initial"
      }
     }
    },
    "version_major": 2,
    "version_minor": 0
   }
  }
 },
 "nbformat": 4,
 "nbformat_minor": 4
}
